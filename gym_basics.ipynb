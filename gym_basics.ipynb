{
 "cells": [
  {
   "cell_type": "code",
   "execution_count": 1,
   "metadata": {},
   "outputs": [],
   "source": [
    "import gym"
   ]
  },
  {
   "cell_type": "code",
   "execution_count": 2,
   "metadata": {},
   "outputs": [],
   "source": [
    "env=gym.make(\"CartPole-v0\")"
   ]
  },
  {
   "cell_type": "code",
   "execution_count": 6,
   "metadata": {},
   "outputs": [
    {
     "data": {
      "text/plain": [
       "array([-0.0083846 ,  0.04691236,  0.00787847, -0.01912457])"
      ]
     },
     "execution_count": 6,
     "metadata": {},
     "output_type": "execute_result"
    }
   ],
   "source": [
    "env.reset()#these are just position,velocity,angle,velocity at tip"
   ]
  },
  {
   "cell_type": "code",
   "execution_count": 8,
   "metadata": {},
   "outputs": [],
   "source": [
    "box=env.observation_space"
   ]
  },
  {
   "cell_type": "code",
   "execution_count": 13,
   "metadata": {},
   "outputs": [
    {
     "data": {
      "text/plain": [
       "array([-4.8000002e+00, -3.4028235e+38, -4.1887903e-01, -3.4028235e+38],\n",
       "      dtype=float32)"
      ]
     },
     "execution_count": 13,
     "metadata": {},
     "output_type": "execute_result"
    }
   ],
   "source": [
    "box.low"
   ]
  },
  {
   "cell_type": "code",
   "execution_count": 15,
   "metadata": {},
   "outputs": [
    {
     "data": {
      "text/plain": [
       "2"
      ]
     },
     "execution_count": 15,
     "metadata": {},
     "output_type": "execute_result"
    }
   ],
   "source": [
    "env.action_space.n"
   ]
  },
  {
   "cell_type": "code",
   "execution_count": 16,
   "metadata": {},
   "outputs": [],
   "source": [
    "done= False\n",
    "while not done:\n",
    "    observation,reward,done,_ = env.step(env.action_space.sample())\n"
   ]
  },
  {
   "cell_type": "code",
   "execution_count": 17,
   "metadata": {},
   "outputs": [
    {
     "name": "stdout",
     "output_type": "stream",
     "text": [
      "avg length: 9.48\n",
      "avg length: 9.15\n",
      "avg length: 110.38\n",
      "avg length: 9.26\n",
      "avg length: 19.28\n",
      "avg length: 56.22\n",
      "avg length: 9.0\n",
      "avg length: 9.25\n",
      "avg length: 47.42\n",
      "avg length: 79.92\n",
      "avg length: 25.78\n",
      "avg length: 9.39\n",
      "avg length: 33.37\n",
      "avg length: 118.74\n",
      "avg length: 186.31\n",
      "avg length: 96.32\n",
      "avg length: 199.75\n",
      "avg length: 9.6\n",
      "avg length: 47.21\n",
      "avg length: 9.43\n",
      "avg length: 8.99\n",
      "avg length: 94.82\n",
      "avg length: 9.49\n",
      "avg length: 78.61\n",
      "avg length: 80.69\n",
      "avg length: 36.21\n",
      "avg length: 9.68\n",
      "avg length: 9.45\n",
      "avg length: 8.97\n",
      "avg length: 9.27\n",
      "avg length: 9.19\n",
      "avg length: 8.94\n",
      "avg length: 9.3\n",
      "avg length: 74.77\n",
      "avg length: 39.1\n",
      "avg length: 115.46\n",
      "avg length: 133.68\n",
      "avg length: 9.72\n",
      "avg length: 200.0\n",
      "avg length: 9.36\n",
      "avg length: 48.07\n",
      "avg length: 133.04\n",
      "avg length: 9.19\n",
      "avg length: 9.58\n",
      "avg length: 9.18\n",
      "avg length: 24.72\n",
      "avg length: 9.74\n",
      "avg length: 9.36\n",
      "avg length: 56.12\n",
      "avg length: 70.57\n",
      "avg length: 51.37\n",
      "avg length: 71.43\n",
      "avg length: 9.24\n",
      "avg length: 200.0\n",
      "avg length: 190.66\n",
      "avg length: 9.11\n",
      "avg length: 18.78\n",
      "avg length: 68.12\n",
      "avg length: 14.85\n",
      "avg length: 9.0\n",
      "avg length: 165.02\n",
      "avg length: 46.37\n",
      "avg length: 9.47\n",
      "avg length: 9.24\n",
      "avg length: 8.92\n",
      "avg length: 96.28\n",
      "avg length: 199.47\n",
      "avg length: 9.4\n",
      "avg length: 9.21\n",
      "avg length: 9.0\n",
      "avg length: 11.91\n",
      "avg length: 9.13\n",
      "avg length: 189.04\n",
      "avg length: 8.9\n",
      "avg length: 192.05\n",
      "avg length: 52.15\n",
      "avg length: 51.58\n",
      "avg length: 9.37\n",
      "avg length: 9.42\n",
      "avg length: 199.89\n",
      "avg length: 181.98\n",
      "avg length: 36.63\n",
      "avg length: 198.39\n",
      "avg length: 9.27\n",
      "avg length: 9.19\n",
      "avg length: 200.0\n",
      "avg length: 108.92\n",
      "avg length: 9.11\n",
      "avg length: 55.54\n",
      "avg length: 11.01\n",
      "avg length: 9.28\n",
      "avg length: 9.24\n",
      "avg length: 44.95\n",
      "avg length: 64.86\n",
      "avg length: 8.88\n",
      "avg length: 8.92\n",
      "avg length: 48.75\n",
      "avg length: 58.25\n",
      "avg length: 9.8\n",
      "avg length: 9.17\n"
     ]
    },
    {
     "data": {
      "text/plain": [
       "<Figure size 640x480 with 1 Axes>"
      ]
     },
     "metadata": {},
     "output_type": "display_data"
    },
    {
     "name": "stdout",
     "output_type": "stream",
     "text": [
      "***Final run with final weights***\n",
      "avg length: 200.0\n"
     ]
    }
   ],
   "source": [
    "from __future__ import print_function, division\n",
    "from builtins import range\n",
    "# Note: you may need to update your version of future\n",
    "# sudo pip install -U future\n",
    "\n",
    "import gym\n",
    "import numpy as np\n",
    "import matplotlib.pyplot as plt\n",
    "\n",
    "\n",
    "def get_action(s, w):\n",
    "  return 1 if s.dot(w) > 0 else 0\n",
    "\n",
    "\n",
    "def play_one_episode(env, params):\n",
    "  observation = env.reset()\n",
    "  done = False\n",
    "  t = 0\n",
    "\n",
    "  while not done and t < 10000:\n",
    "    # env.render()\n",
    "    t += 1\n",
    "    action = get_action(observation, params)\n",
    "    observation, reward, done, info = env.step(action)\n",
    "    if done:\n",
    "      break\n",
    "\n",
    "  return t\n",
    "\n",
    "\n",
    "def play_multiple_episodes(env, T, params):\n",
    "  episode_lengths = np.empty(T)\n",
    "\n",
    "  for i in range(T):\n",
    "    episode_lengths[i] = play_one_episode(env, params)\n",
    "\n",
    "  avg_length = episode_lengths.mean()\n",
    "  print(\"avg length:\", avg_length)\n",
    "  return avg_length\n",
    "\n",
    "\n",
    "def random_search(env):\n",
    "  episode_lengths = []\n",
    "  best = 0\n",
    "  params = None\n",
    "  for t in range(100):\n",
    "    new_params = np.random.random(4)*2 - 1\n",
    "    avg_length = play_multiple_episodes(env, 100, new_params)\n",
    "    episode_lengths.append(avg_length)\n",
    "\n",
    "    if avg_length > best:\n",
    "      params = new_params\n",
    "      best = avg_length\n",
    "  return episode_lengths, params\n",
    "\n",
    "\n",
    "if __name__ == '__main__':\n",
    "  env = gym.make('CartPole-v0')\n",
    "  episode_lengths, params = random_search(env)\n",
    "  plt.plot(episode_lengths)\n",
    "  plt.show()\n",
    "\n",
    "  # play a final set of episodes\n",
    "  print(\"***Final run with final weights***\")\n",
    "  play_multiple_episodes(env, 100, params)"
   ]
  },
  {
   "cell_type": "code",
   "execution_count": 18,
   "metadata": {},
   "outputs": [
    {
     "data": {
      "text/plain": [
       "array([-0.85346453, -0.62918261,  0.84426377, -0.74902273])"
      ]
     },
     "execution_count": 18,
     "metadata": {},
     "output_type": "execute_result"
    }
   ],
   "source": [
    "np.random.random(4)*2 - 1"
   ]
  },
  {
   "cell_type": "code",
   "execution_count": null,
   "metadata": {},
   "outputs": [],
   "source": []
  }
 ],
 "metadata": {
  "kernelspec": {
   "display_name": "Python 3",
   "language": "python",
   "name": "python3"
  },
  "language_info": {
   "codemirror_mode": {
    "name": "ipython",
    "version": 3
   },
   "file_extension": ".py",
   "mimetype": "text/x-python",
   "name": "python",
   "nbconvert_exporter": "python",
   "pygments_lexer": "ipython3",
   "version": "3.6.5"
  }
 },
 "nbformat": 4,
 "nbformat_minor": 2
}
